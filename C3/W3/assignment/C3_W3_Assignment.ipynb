{
  "nbformat": 4,
  "nbformat_minor": 0,
  "metadata": {
    "accelerator": "GPU",
    "colab": {
      "name": "C3_W3_Assignment.ipynb",
      "provenance": [],
      "toc_visible": true,
      "include_colab_link": true
    },
    "kernelspec": {
      "display_name": "Python 3",
      "language": "python",
      "name": "python3"
    },
    "language_info": {
      "codemirror_mode": {
        "name": "ipython",
        "version": 3
      },
      "file_extension": ".py",
      "mimetype": "text/x-python",
      "name": "python",
      "nbconvert_exporter": "python",
      "pygments_lexer": "ipython3",
      "version": "3.8.5"
    }
  },
  "cells": [
    {
      "cell_type": "markdown",
      "metadata": {
        "id": "view-in-github",
        "colab_type": "text"
      },
      "source": [
        "<a href=\"https://colab.research.google.com/github/leo8031/coursera_tensorflow/blob/main/C3/W3/assignment/C3_W3_Assignment.ipynb\" target=\"_parent\"><img src=\"https://colab.research.google.com/assets/colab-badge.svg\" alt=\"Open In Colab\"/></a>"
      ]
    },
    {
      "cell_type": "code",
      "metadata": {
        "id": "zX4Kg8DUTKWO"
      },
      "source": [
        "#@title Licensed under the Apache License, Version 2.0 (the \"License\");\n",
        "# you may not use this file except in compliance with the License.\n",
        "# You may obtain a copy of the License at\n",
        "#\n",
        "# https://www.apache.org/licenses/LICENSE-2.0\n",
        "#\n",
        "# Unless required by applicable law or agreed to in writing, software\n",
        "# distributed under the License is distributed on an \"AS IS\" BASIS,\n",
        "# WITHOUT WARRANTIES OR CONDITIONS OF ANY KIND, either express or implied.\n",
        "# See the License for the specific language governing permissions and\n",
        "# limitations under the License."
      ],
      "execution_count": null,
      "outputs": []
    },
    {
      "cell_type": "markdown",
      "metadata": {
        "id": "gnU1TV9kV5f9"
      },
      "source": [
        "**Note:** This notebook can run using TensorFlow 2.5.0"
      ]
    },
    {
      "cell_type": "code",
      "metadata": {
        "id": "qTZDRvo5V5f9"
      },
      "source": [
        "#!pip install tensorflow==2.5.0"
      ],
      "execution_count": null,
      "outputs": []
    },
    {
      "cell_type": "code",
      "metadata": {
        "id": "hmA6EzkQJ5jt"
      },
      "source": [
        "import json\n",
        "import tensorflow as tf\n",
        "import csv\n",
        "import random\n",
        "import numpy as np\n",
        "\n",
        "from tensorflow.keras.preprocessing.text import Tokenizer\n",
        "from tensorflow.keras.preprocessing.sequence import pad_sequences\n",
        "from tensorflow.keras.utils import to_categorical\n",
        "from tensorflow.keras import regularizers\n",
        "\n",
        "\n",
        "embedding_dim = 100\n",
        "max_length = 16\n",
        "trunc_type='post'\n",
        "padding_type='post'\n",
        "oov_tok = \"<OOV>\"\n",
        "training_size=160000\n",
        "test_portion=.1\n",
        "\n",
        "corpus = []\n"
      ],
      "execution_count": 1,
      "outputs": []
    },
    {
      "cell_type": "code",
      "metadata": {
        "id": "bM0l_dORKqE0",
        "colab": {
          "base_uri": "https://localhost:8080/"
        },
        "outputId": "b365834a-d063-428e-9a01-c44c5f075748"
      },
      "source": [
        "# Note that I cleaned the Stanford dataset to remove LATIN1 encoding to make it easier for Python CSV reader\n",
        "# You can do that yourself with:\n",
        "# iconv -f LATIN1 -t UTF8 training.1600000.processed.noemoticon.csv -o training_cleaned.csv\n",
        "\n",
        "# training_cleaned.csv\n",
        "!gdown --id 1wd8KaeCSHxt-nEpMeuHFSNWrDp8joUXJ\n",
        "\n",
        "num_sentences = 0\n",
        "\n",
        "with open(\"./training_cleaned.csv\") as csvfile:\n",
        "    reader = csv.reader(csvfile, delimiter=',')\n",
        "    for row in reader:\n",
        "        list_item=[]\n",
        "        \n",
        "        ### START CODE HERE\n",
        "        list_item.append(row[5])\n",
        "        this_table = row[0]\n",
        "        if this_table == '0':\n",
        "          list_item.append(0)\n",
        "        else:\n",
        "          list_item.append(1)\n",
        "        ### END CODE HERE\n",
        "        \n",
        "        num_sentences = num_sentences + 1\n",
        "        corpus.append(list_item)\n"
      ],
      "execution_count": 2,
      "outputs": [
        {
          "output_type": "stream",
          "name": "stdout",
          "text": [
            "Downloading...\n",
            "From: https://drive.google.com/uc?id=1wd8KaeCSHxt-nEpMeuHFSNWrDp8joUXJ\n",
            "To: /content/training_cleaned.csv\n",
            "100% 239M/239M [00:01<00:00, 165MB/s]\n"
          ]
        }
      ]
    },
    {
      "cell_type": "code",
      "metadata": {
        "id": "3kxblBUjEUX-",
        "colab": {
          "base_uri": "https://localhost:8080/"
        },
        "outputId": "1c8b03b1-74c6-4546-8cf8-aac38e1fc006"
      },
      "source": [
        "print(num_sentences)\n",
        "print(len(corpus))\n",
        "print(corpus[1])\n",
        "\n",
        "# Expected Output:\n",
        "# 1600000\n",
        "# 1600000\n",
        "# [\"is upset that he can't update his Facebook by texting it... and might cry as a result  School today also. Blah!\", 0]"
      ],
      "execution_count": 3,
      "outputs": [
        {
          "output_type": "stream",
          "name": "stdout",
          "text": [
            "1600000\n",
            "1600000\n",
            "[\"is upset that he can't update his Facebook by texting it... and might cry as a result  School today also. Blah!\", 0]\n"
          ]
        }
      ]
    },
    {
      "cell_type": "code",
      "metadata": {
        "id": "ohOGz24lsNAD"
      },
      "source": [
        "sentences=[]\n",
        "labels=[]\n",
        "random.shuffle(corpus)\n",
        "for x in range(training_size):\n",
        "    sentences.append(corpus[x][0])\n",
        "    labels.append(corpus[x][1])\n",
        "\n",
        "\n",
        "tokenizer = Tokenizer()\n",
        "tokenizer.fit_on_texts(sentences)\n",
        "\n",
        "word_index = tokenizer.word_index\n",
        "vocab_size=len(word_index)\n",
        "\n",
        "sequences = tokenizer.texts_to_sequences(sentences)\n",
        "padded = pad_sequences(sequences)\n",
        "\n",
        "split = int(test_portion * training_size)\n",
        "\n",
        "test_sequences = padded[:split]\n",
        "training_sequences = padded[split:]\n",
        "test_labels = labels[:split]\n",
        "training_labels = labels[split:]"
      ],
      "execution_count": 4,
      "outputs": []
    },
    {
      "cell_type": "code",
      "metadata": {
        "id": "gIrtRem1En3N",
        "colab": {
          "base_uri": "https://localhost:8080/"
        },
        "outputId": "dec9c1aa-531a-4597-8522-96daf4cd17f4"
      },
      "source": [
        "print(vocab_size)\n",
        "print(word_index['i'])\n",
        "# Expected Output\n",
        "# 138856\n",
        "# 1"
      ],
      "execution_count": 5,
      "outputs": [
        {
          "output_type": "stream",
          "name": "stdout",
          "text": [
            "138601\n",
            "1\n"
          ]
        }
      ]
    },
    {
      "cell_type": "code",
      "metadata": {
        "id": "C1zdgJkusRh0",
        "colab": {
          "base_uri": "https://localhost:8080/"
        },
        "outputId": "235d3e4d-6a8e-461b-e406-5fbdad242f9a"
      },
      "source": [
        "# Note this is the 100 dimension version of GloVe from Stanford\n",
        "\n",
        "# glove.6B.100d.txt\n",
        "!gdown --id 1W5vZy2etitAblLdFn8_DxnsQKzfFJ98g\n",
        "\n",
        "embeddings_index = {};\n",
        "with open('./glove.6B.100d.txt') as f:\n",
        "    for line in f:\n",
        "        values = line.split();\n",
        "        word = values[0];\n",
        "        coefs = np.asarray(values[1:], dtype='float32');\n",
        "        embeddings_index[word] = coefs;\n",
        "\n",
        "embeddings_matrix = np.zeros((vocab_size+1, embedding_dim));\n",
        "for word, i in word_index.items():\n",
        "    embedding_vector = embeddings_index.get(word);\n",
        "    if embedding_vector is not None:\n",
        "        embeddings_matrix[i] = embedding_vector;"
      ],
      "execution_count": 6,
      "outputs": [
        {
          "output_type": "stream",
          "name": "stdout",
          "text": [
            "Downloading...\n",
            "From: https://drive.google.com/uc?id=1W5vZy2etitAblLdFn8_DxnsQKzfFJ98g\n",
            "To: /content/glove.6B.100d.txt\n",
            "100% 347M/347M [00:03<00:00, 103MB/s]\n"
          ]
        }
      ]
    },
    {
      "cell_type": "code",
      "metadata": {
        "id": "71NLk_lpFLNt"
      },
      "source": [
        "print(len(embeddings_matrix))\n",
        "# Expected Output\n",
        "# 138857"
      ],
      "execution_count": null,
      "outputs": []
    },
    {
      "cell_type": "code",
      "metadata": {
        "id": "iKKvbuEBOGFz",
        "colab": {
          "base_uri": "https://localhost:8080/"
        },
        "outputId": "81f7ca1d-843f-43c1-8faa-caaf33ea66d1"
      },
      "source": [
        "model = tf.keras.Sequential([\n",
        "    tf.keras.layers.Embedding(vocab_size+1, embedding_dim, input_length=max_length, weights=[embeddings_matrix], trainable=False),\n",
        "    tf.keras.layers.Dropout(0.2),\n",
        "    tf.keras.layers.Conv1D(64, 5, activation = 'relu'),\n",
        "    tf.keras.layers.MaxPooling1D(pool_size = 4),\n",
        "    tf.keras.layers.LSTM(64),\n",
        "    tf.keras.layers.Dense(1, activation = 'sigmoid')\n",
        "    ])\n",
        "\n",
        "model.compile(loss = 'binary_crossentropy', optimizer = 'adam', metrics = ['accuracy'])\n",
        "model.summary()\n",
        "\n",
        "num_epochs = 50\n",
        "\n",
        "training_padded = np.array(training_sequences)\n",
        "training_labels = np.array(training_labels)\n",
        "testing_padded = np.array(test_sequences)\n",
        "testing_labels = np.array(test_labels)\n",
        "\n",
        "history = model.fit(training_padded, training_labels, epochs=num_epochs, validation_data=(testing_padded, testing_labels), verbose=2)\n",
        "\n",
        "print(\"Training Complete\")\n"
      ],
      "execution_count": 8,
      "outputs": [
        {
          "output_type": "stream",
          "name": "stdout",
          "text": [
            "Model: \"sequential_1\"\n",
            "_________________________________________________________________\n",
            "Layer (type)                 Output Shape              Param #   \n",
            "=================================================================\n",
            "embedding_1 (Embedding)      (None, 16, 100)           13860200  \n",
            "_________________________________________________________________\n",
            "dropout_1 (Dropout)          (None, 16, 100)           0         \n",
            "_________________________________________________________________\n",
            "conv1d_1 (Conv1D)            (None, 12, 64)            32064     \n",
            "_________________________________________________________________\n",
            "max_pooling1d_1 (MaxPooling1 (None, 3, 64)             0         \n",
            "_________________________________________________________________\n",
            "lstm_1 (LSTM)                (None, 64)                33024     \n",
            "_________________________________________________________________\n",
            "dense_1 (Dense)              (None, 1)                 65        \n",
            "=================================================================\n",
            "Total params: 13,925,353\n",
            "Trainable params: 65,153\n",
            "Non-trainable params: 13,860,200\n",
            "_________________________________________________________________\n",
            "Epoch 1/50\n",
            "WARNING:tensorflow:Model was constructed with shape (None, 16) for input KerasTensor(type_spec=TensorSpec(shape=(None, 16), dtype=tf.float32, name='embedding_1_input'), name='embedding_1_input', description=\"created by layer 'embedding_1_input'\"), but it was called on an input with incompatible shape (32, 52).\n",
            "WARNING:tensorflow:Model was constructed with shape (None, 16) for input KerasTensor(type_spec=TensorSpec(shape=(None, 16), dtype=tf.float32, name='embedding_1_input'), name='embedding_1_input', description=\"created by layer 'embedding_1_input'\"), but it was called on an input with incompatible shape (32, 52).\n",
            "WARNING:tensorflow:Model was constructed with shape (None, 16) for input KerasTensor(type_spec=TensorSpec(shape=(None, 16), dtype=tf.float32, name='embedding_1_input'), name='embedding_1_input', description=\"created by layer 'embedding_1_input'\"), but it was called on an input with incompatible shape (32, 52).\n",
            "4500/4500 - 51s - loss: 0.5465 - accuracy: 0.7192 - val_loss: 0.4960 - val_accuracy: 0.7576\n",
            "Epoch 2/50\n",
            "4500/4500 - 19s - loss: 0.5018 - accuracy: 0.7533 - val_loss: 0.4834 - val_accuracy: 0.7635\n",
            "Epoch 3/50\n",
            "4500/4500 - 18s - loss: 0.4840 - accuracy: 0.7650 - val_loss: 0.4762 - val_accuracy: 0.7711\n",
            "Epoch 4/50\n",
            "4500/4500 - 19s - loss: 0.4725 - accuracy: 0.7725 - val_loss: 0.4821 - val_accuracy: 0.7696\n",
            "Epoch 5/50\n",
            "4500/4500 - 18s - loss: 0.4636 - accuracy: 0.7776 - val_loss: 0.4701 - val_accuracy: 0.7778\n",
            "Epoch 6/50\n",
            "4500/4500 - 18s - loss: 0.4559 - accuracy: 0.7835 - val_loss: 0.4704 - val_accuracy: 0.7742\n",
            "Epoch 7/50\n",
            "4500/4500 - 18s - loss: 0.4496 - accuracy: 0.7862 - val_loss: 0.4713 - val_accuracy: 0.7776\n",
            "Epoch 8/50\n",
            "4500/4500 - 18s - loss: 0.4443 - accuracy: 0.7902 - val_loss: 0.4668 - val_accuracy: 0.7769\n",
            "Epoch 9/50\n",
            "4500/4500 - 18s - loss: 0.4387 - accuracy: 0.7926 - val_loss: 0.4666 - val_accuracy: 0.7774\n",
            "Epoch 10/50\n",
            "4500/4500 - 18s - loss: 0.4363 - accuracy: 0.7946 - val_loss: 0.4726 - val_accuracy: 0.7737\n",
            "Epoch 11/50\n",
            "4500/4500 - 18s - loss: 0.4319 - accuracy: 0.7970 - val_loss: 0.4705 - val_accuracy: 0.7781\n",
            "Epoch 12/50\n",
            "4500/4500 - 19s - loss: 0.4286 - accuracy: 0.7993 - val_loss: 0.4721 - val_accuracy: 0.7797\n",
            "Epoch 13/50\n",
            "4500/4500 - 18s - loss: 0.4255 - accuracy: 0.8008 - val_loss: 0.4722 - val_accuracy: 0.7785\n",
            "Epoch 14/50\n",
            "4500/4500 - 18s - loss: 0.4228 - accuracy: 0.8023 - val_loss: 0.4841 - val_accuracy: 0.7738\n",
            "Epoch 15/50\n",
            "4500/4500 - 19s - loss: 0.4215 - accuracy: 0.8031 - val_loss: 0.4725 - val_accuracy: 0.7799\n",
            "Epoch 16/50\n",
            "4500/4500 - 18s - loss: 0.4200 - accuracy: 0.8037 - val_loss: 0.4735 - val_accuracy: 0.7794\n",
            "Epoch 17/50\n",
            "4500/4500 - 18s - loss: 0.4168 - accuracy: 0.8049 - val_loss: 0.4723 - val_accuracy: 0.7751\n",
            "Epoch 18/50\n",
            "4500/4500 - 19s - loss: 0.4162 - accuracy: 0.8057 - val_loss: 0.4768 - val_accuracy: 0.7756\n",
            "Epoch 19/50\n",
            "4500/4500 - 18s - loss: 0.4144 - accuracy: 0.8072 - val_loss: 0.4729 - val_accuracy: 0.7778\n",
            "Epoch 20/50\n",
            "4500/4500 - 19s - loss: 0.4128 - accuracy: 0.8086 - val_loss: 0.4731 - val_accuracy: 0.7763\n",
            "Epoch 21/50\n",
            "4500/4500 - 19s - loss: 0.4107 - accuracy: 0.8100 - val_loss: 0.4761 - val_accuracy: 0.7772\n",
            "Epoch 22/50\n",
            "4500/4500 - 18s - loss: 0.4109 - accuracy: 0.8083 - val_loss: 0.4792 - val_accuracy: 0.7732\n",
            "Epoch 23/50\n",
            "4500/4500 - 19s - loss: 0.4078 - accuracy: 0.8103 - val_loss: 0.4760 - val_accuracy: 0.7776\n",
            "Epoch 24/50\n",
            "4500/4500 - 19s - loss: 0.4084 - accuracy: 0.8100 - val_loss: 0.4774 - val_accuracy: 0.7751\n",
            "Epoch 25/50\n",
            "4500/4500 - 18s - loss: 0.4066 - accuracy: 0.8118 - val_loss: 0.4760 - val_accuracy: 0.7776\n",
            "Epoch 26/50\n",
            "4500/4500 - 18s - loss: 0.4065 - accuracy: 0.8115 - val_loss: 0.4794 - val_accuracy: 0.7772\n",
            "Epoch 27/50\n",
            "4500/4500 - 18s - loss: 0.4065 - accuracy: 0.8111 - val_loss: 0.4774 - val_accuracy: 0.7783\n",
            "Epoch 28/50\n",
            "4500/4500 - 18s - loss: 0.4052 - accuracy: 0.8127 - val_loss: 0.4795 - val_accuracy: 0.7757\n",
            "Epoch 29/50\n",
            "4500/4500 - 19s - loss: 0.4039 - accuracy: 0.8127 - val_loss: 0.4867 - val_accuracy: 0.7709\n",
            "Epoch 30/50\n",
            "4500/4500 - 19s - loss: 0.4032 - accuracy: 0.8132 - val_loss: 0.4818 - val_accuracy: 0.7766\n",
            "Epoch 31/50\n",
            "4500/4500 - 18s - loss: 0.4024 - accuracy: 0.8144 - val_loss: 0.4850 - val_accuracy: 0.7724\n",
            "Epoch 32/50\n",
            "4500/4500 - 19s - loss: 0.4013 - accuracy: 0.8143 - val_loss: 0.4818 - val_accuracy: 0.7762\n",
            "Epoch 33/50\n",
            "4500/4500 - 18s - loss: 0.4018 - accuracy: 0.8136 - val_loss: 0.4852 - val_accuracy: 0.7734\n",
            "Epoch 34/50\n",
            "4500/4500 - 18s - loss: 0.4007 - accuracy: 0.8143 - val_loss: 0.4823 - val_accuracy: 0.7745\n",
            "Epoch 35/50\n",
            "4500/4500 - 19s - loss: 0.4023 - accuracy: 0.8139 - val_loss: 0.4829 - val_accuracy: 0.7723\n",
            "Epoch 36/50\n",
            "4500/4500 - 19s - loss: 0.4009 - accuracy: 0.8138 - val_loss: 0.4825 - val_accuracy: 0.7757\n",
            "Epoch 37/50\n",
            "4500/4500 - 18s - loss: 0.3994 - accuracy: 0.8156 - val_loss: 0.4859 - val_accuracy: 0.7731\n",
            "Epoch 38/50\n",
            "4500/4500 - 18s - loss: 0.4002 - accuracy: 0.8148 - val_loss: 0.4817 - val_accuracy: 0.7756\n",
            "Epoch 39/50\n",
            "4500/4500 - 18s - loss: 0.3986 - accuracy: 0.8162 - val_loss: 0.4849 - val_accuracy: 0.7756\n",
            "Epoch 40/50\n",
            "4500/4500 - 18s - loss: 0.3997 - accuracy: 0.8153 - val_loss: 0.4797 - val_accuracy: 0.7766\n",
            "Epoch 41/50\n",
            "4500/4500 - 18s - loss: 0.3982 - accuracy: 0.8159 - val_loss: 0.4871 - val_accuracy: 0.7730\n",
            "Epoch 42/50\n",
            "4500/4500 - 18s - loss: 0.3988 - accuracy: 0.8161 - val_loss: 0.4872 - val_accuracy: 0.7734\n",
            "Epoch 43/50\n",
            "4500/4500 - 19s - loss: 0.3975 - accuracy: 0.8168 - val_loss: 0.4839 - val_accuracy: 0.7780\n",
            "Epoch 44/50\n",
            "4500/4500 - 19s - loss: 0.3984 - accuracy: 0.8168 - val_loss: 0.4830 - val_accuracy: 0.7776\n",
            "Epoch 45/50\n",
            "4500/4500 - 18s - loss: 0.3981 - accuracy: 0.8165 - val_loss: 0.4847 - val_accuracy: 0.7751\n",
            "Epoch 46/50\n",
            "4500/4500 - 19s - loss: 0.3959 - accuracy: 0.8174 - val_loss: 0.4809 - val_accuracy: 0.7721\n",
            "Epoch 47/50\n",
            "4500/4500 - 18s - loss: 0.3968 - accuracy: 0.8170 - val_loss: 0.4841 - val_accuracy: 0.7756\n",
            "Epoch 48/50\n",
            "4500/4500 - 18s - loss: 0.3960 - accuracy: 0.8169 - val_loss: 0.4890 - val_accuracy: 0.7724\n",
            "Epoch 49/50\n",
            "4500/4500 - 18s - loss: 0.3952 - accuracy: 0.8178 - val_loss: 0.4888 - val_accuracy: 0.7746\n",
            "Epoch 50/50\n",
            "4500/4500 - 18s - loss: 0.3966 - accuracy: 0.8183 - val_loss: 0.4886 - val_accuracy: 0.7771\n",
            "Training Complete\n"
          ]
        }
      ]
    },
    {
      "cell_type": "code",
      "metadata": {
        "id": "qxju4ItJKO8F",
        "colab": {
          "base_uri": "https://localhost:8080/",
          "height": 607
        },
        "outputId": "ec6dc079-0303-4532-c502-5b0055cd014e"
      },
      "source": [
        "import matplotlib.image  as mpimg\n",
        "import matplotlib.pyplot as plt\n",
        "\n",
        "#-----------------------------------------------------------\n",
        "# Retrieve a list of list results on training and test data\n",
        "# sets for each training epoch\n",
        "#-----------------------------------------------------------\n",
        "acc=history.history['accuracy']\n",
        "val_acc=history.history['val_accuracy']\n",
        "loss=history.history['loss']\n",
        "val_loss=history.history['val_loss']\n",
        "\n",
        "epochs=range(len(acc)) # Get number of epochs\n",
        "\n",
        "#------------------------------------------------\n",
        "# Plot training and validation accuracy per epoch\n",
        "#------------------------------------------------\n",
        "plt.plot(epochs, acc, 'r')\n",
        "plt.plot(epochs, val_acc, 'b')\n",
        "plt.title('Training and validation accuracy')\n",
        "plt.xlabel(\"Epochs\")\n",
        "plt.ylabel(\"Accuracy\")\n",
        "plt.legend([\"Accuracy\", \"Validation Accuracy\"])\n",
        "\n",
        "plt.figure()\n",
        "\n",
        "#------------------------------------------------\n",
        "# Plot training and validation loss per epoch\n",
        "#------------------------------------------------\n",
        "plt.plot(epochs, loss, 'r')\n",
        "plt.plot(epochs, val_loss, 'b')\n",
        "plt.title('Training and validation loss')\n",
        "plt.xlabel(\"Epochs\")\n",
        "plt.ylabel(\"Loss\")\n",
        "plt.legend([\"Loss\", \"Validation Loss\"])\n",
        "\n",
        "plt.figure()\n",
        "\n",
        "\n",
        "# Expected Output\n",
        "# A chart where the validation loss does not increase sharply!"
      ],
      "execution_count": 9,
      "outputs": [
        {
          "output_type": "execute_result",
          "data": {
            "text/plain": [
              "<Figure size 432x288 with 0 Axes>"
            ]
          },
          "metadata": {},
          "execution_count": 9
        },
        {
          "output_type": "display_data",
          "data": {
            "image/png": "[encoded data removed]",
            "text/plain": [
              "<Figure size 432x288 with 1 Axes>"
            ]
          },
          "metadata": {
            "needs_background": "light"
          }
        },
        {
          "output_type": "display_data",
          "data": {
            "image/png": "[encoded data removed]",
            "text/plain": [
              "<Figure size 432x288 with 1 Axes>"
            ]
          },
          "metadata": {
            "needs_background": "light"
          }
        },
        {
          "output_type": "display_data",
          "data": {
            "text/plain": [
              "<Figure size 432x288 with 0 Axes>"
            ]
          },
          "metadata": {}
        }
      ]
    },
    {
      "cell_type": "code",
      "metadata": {
        "id": "Vy3ayHdUgC-9"
      },
      "source": [
        ""
      ],
      "execution_count": null,
      "outputs": []
    }
  ]
}