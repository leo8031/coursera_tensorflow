{
 "cells": [
  {
   "cell_type": "markdown",
   "metadata": {
    "colab_type": "text",
    "id": "UncprnB0ymAE"
   },
   "source": [
    "Below is code with a link to a happy or sad dataset which contains 80 images, 40 happy and 40 sad. \n",
    "Create a convolutional neural network that trains to 100% accuracy on these images,  which cancels training upon hitting training accuracy of >.999\n",
    "\n",
    "Hint -- it will work best with 3 convolutional layers."
   ]
  },
  {
   "cell_type": "code",
   "execution_count": 4,
   "metadata": {},
   "outputs": [],
   "source": [
    "import tensorflow as tf\n",
    "import os\n",
    "import zipfile\n",
    "from os import path, getcwd, chdir\n",
    "\n",
    "# DO NOT CHANGE THE LINE BELOW. If you are developing in a local\n",
    "# environment, then grab happy-or-sad.zip from the Coursera Jupyter Notebook\n",
    "# and place it inside a local folder and edit the path to that location\n",
    "path = f\"{getcwd()}/../tmp2/happy-or-sad.zip\"\n",
    "\n",
    "zip_ref = zipfile.ZipFile(path, 'r')\n",
    "zip_ref.extractall(\"/tmp/h-or-s\")\n",
    "zip_ref.close()"
   ]
  },
  {
   "cell_type": "code",
   "execution_count": 40,
   "metadata": {},
   "outputs": [],
   "source": [
    "# GRADED FUNCTION: train_happy_sad_model\n",
    "def train_happy_sad_model():\n",
    "    # Please write your code only where you are indicated.\n",
    "    # please do not remove # model fitting inline comments.\n",
    "\n",
    "    DESIRED_ACCURACY = 0.999\n",
    "\n",
    "    class myCallback(tf.keras.callbacks.Callback):\n",
    "      def on_epoch_end(self, epoch, logs = {}):\n",
    "        if(logs.get('acc')>0.999):\n",
    "          print('\\nReached 99.9% of accuracy so cancelling training')\n",
    "          self.model.stop_training = True\n",
    "\n",
    "    callbacks = myCallback()\n",
    "    \n",
    "    # This Code Block should Define and Compile the Model. Please assume the images are 150 X 150 in your implementation.\n",
    "    model = tf.keras.models.Sequential([\n",
    "        # Your Code Here\n",
    "        tf.keras.layers.Conv2D(64, (3, 3), activation = 'relu', input_shape = (150, 150, 3)),\n",
    "        tf.keras.layers.MaxPooling2D(2,2),\n",
    "        tf.keras.layers.Conv2D(128, (3, 3), activation = 'relu'),\n",
    "        tf.keras.layers.MaxPooling2D(2,2),\n",
    "        tf.keras.layers.Conv2D(256, (3, 3), activation = 'relu'),\n",
    "        tf.keras.layers.Flatten(),\n",
    "        tf.keras.layers.Dense(256, activation = 'relu'),\n",
    "        tf.keras.layers.Dense(1, activation = 'sigmoid')\n",
    "    ])\n",
    "\n",
    "    from tensorflow.keras.optimizers import RMSprop\n",
    "\n",
    "    model.compile(# Your Code Here #)\n",
    "        loss = 'binary_crossentropy',\n",
    "        optimizer = RMSprop(learning_rate = 0.03),\n",
    "        metrics = ['accuracy']\n",
    "    )\n",
    "\n",
    "    # This code block should create an instance of an ImageDataGenerator called train_datagen \n",
    "    # And a train_generator by calling train_datagen.flow_from_directory\n",
    "\n",
    "    from tensorflow.keras.preprocessing.image import ImageDataGenerator\n",
    "\n",
    "    train_datagen = ImageDataGenerator(rescale = 1/255)\n",
    "\n",
    "    # Please use a target_size of 150 X 150.\n",
    "    train_generator = train_datagen.flow_from_directory(\n",
    "        \"/tmp/h-or-s\",\n",
    "        target_size = (150, 150),\n",
    "        batch_size = 32,\n",
    "        class_mode = 'binary'\n",
    "        )\n",
    "    # Expected output: 'Found 80 images belonging to 2 classes'\n",
    "\n",
    "    # This code block should call model.fit_generator and train for\n",
    "    # a number of epochs.\n",
    "    # model fitting\n",
    "    history = model.fit_generator(train_generator,\n",
    "                                 steps_per_epoch = 8,\n",
    "                                 epochs = 15,\n",
    "                                 verbose = 1,\n",
    "                                 callbacks = [callbacks])\n",
    "    # model fitting\n",
    "    return history.history['acc'][-1]"
   ]
  },
  {
   "cell_type": "code",
   "execution_count": 41,
   "metadata": {},
   "outputs": [
    {
     "name": "stdout",
     "output_type": "stream",
     "text": [
      "Found 80 images belonging to 2 classes.\n",
      "Epoch 1/15\n",
      "8/8 [==============================] - 6s 787ms/step - loss: 564603.1293 - acc: 0.4911\n",
      "Epoch 2/15\n",
      "8/8 [==============================] - 1s 101ms/step - loss: 10.1908 - acc: 0.4167\n",
      "Epoch 3/15\n",
      "8/8 [==============================] - 1s 123ms/step - loss: 0.7973 - acc: 0.5804\n",
      "Epoch 4/15\n",
      "8/8 [==============================] - 1s 125ms/step - loss: 0.6857 - acc: 0.6250\n",
      "Epoch 5/15\n",
      "8/8 [==============================] - 1s 125ms/step - loss: 0.6868 - acc: 0.5446\n",
      "Epoch 6/15\n",
      "8/8 [==============================] - 1s 91ms/step - loss: 0.6604 - acc: 0.6298\n",
      "Epoch 7/15\n",
      "8/8 [==============================] - 1s 123ms/step - loss: 0.9310 - acc: 0.5192\n",
      "Epoch 8/15\n",
      "8/8 [==============================] - 1s 111ms/step - loss: 0.6749 - acc: 0.6010\n",
      "Epoch 9/15\n",
      "8/8 [==============================] - 1s 103ms/step - loss: 0.9588 - acc: 0.6429\n",
      "Epoch 10/15\n",
      "8/8 [==============================] - 1s 121ms/step - loss: 4.6051 - acc: 0.4808\n",
      "Epoch 11/15\n",
      "8/8 [==============================] - 1s 112ms/step - loss: 0.6960 - acc: 0.4808\n",
      "Epoch 12/15\n",
      "8/8 [==============================] - 1s 112ms/step - loss: 0.6936 - acc: 0.4732\n",
      "Epoch 13/15\n",
      "8/8 [==============================] - 1s 116ms/step - loss: 0.6957 - acc: 0.4598\n",
      "Epoch 14/15\n",
      "8/8 [==============================] - 1s 111ms/step - loss: 0.6940 - acc: 0.4856\n",
      "Epoch 15/15\n",
      "8/8 [==============================] - 1s 110ms/step - loss: 0.6970 - acc: 0.4712\n"
     ]
    },
    {
     "data": {
      "text/plain": [
       "0.47115386"
      ]
     },
     "execution_count": 41,
     "metadata": {},
     "output_type": "execute_result"
    }
   ],
   "source": [
    "# The Expected output: \"Reached 99.9% accuracy so cancelling training!\"\"\n",
    "train_happy_sad_model()"
   ]
  },
  {
   "cell_type": "code",
   "execution_count": 4,
   "metadata": {},
   "outputs": [],
   "source": [
    "# Now click the 'Submit Assignment' button above.\n",
    "# Once that is complete, please run the following two cells to save your work and close the notebook"
   ]
  },
  {
   "cell_type": "code",
   "execution_count": null,
   "metadata": {},
   "outputs": [],
   "source": [
    "%%javascript\n",
    "<!-- Save the notebook -->\n",
    "IPython.notebook.save_checkpoint();"
   ]
  },
  {
   "cell_type": "code",
   "execution_count": null,
   "metadata": {},
   "outputs": [],
   "source": [
    "%%javascript\n",
    "IPython.notebook.session.delete();\n",
    "window.onbeforeunload = null\n",
    "setTimeout(function() { window.close(); }, 1000);"
   ]
  }
 ],
 "metadata": {
  "coursera": {
   "course_slug": "introduction-tensorflow",
   "graded_item_id": "1kAlw",
   "launcher_item_id": "PNLYD"
  },
  "kernelspec": {
   "display_name": "Python 3",
   "language": "python",
   "name": "python3"
  },
  "language_info": {
   "codemirror_mode": {
    "name": "ipython",
    "version": 3
   },
   "file_extension": ".py",
   "mimetype": "text/x-python",
   "name": "python",
   "nbconvert_exporter": "python",
   "pygments_lexer": "ipython3",
   "version": "3.6.8"
  }
 },
 "nbformat": 4,
 "nbformat_minor": 1
}
